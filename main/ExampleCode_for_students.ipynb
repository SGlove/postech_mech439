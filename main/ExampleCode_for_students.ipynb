{
 "cells": [
  {
   "cell_type": "code",
   "execution_count": 41,
   "id": "7bebbf60",
   "metadata": {
    "pycharm": {
     "name": "#%%\n"
    }
   },
   "outputs": [],
   "source": [
    "import numpy as np\n",
    "import matplotlib.pyplot as plt\n",
    "from src.core.pybullet_core import PybulletCore\n",
    "from src.utils import *"
   ]
  },
  {
   "cell_type": "markdown",
   "id": "9af6e99c",
   "metadata": {
    "pycharm": {
     "name": "#%% md\n"
    }
   },
   "source": [
    "# Open Pybullet GUI"
   ]
  },
  {
   "cell_type": "code",
   "execution_count": 42,
   "id": "d610617b",
   "metadata": {
    "pycharm": {
     "name": "#%%\n"
    }
   },
   "outputs": [
    {
     "name": "stdout",
     "output_type": "stream",
     "text": [
      "\u001b[1m\u001b[34m******** ROBOT INFO ********\u001b[30m\u001b[0m\n",
      "\u001b[1m\u001b[30mRobot name: \u001b[30m\u001b[0mindy7_v2\n",
      "\u001b[1m\u001b[30mRobot type: \u001b[30m\u001b[0mindy7_v2\n",
      "\u001b[1m\u001b[30mDOF: \u001b[30m\u001b[0m6\n",
      "\u001b[1m\u001b[30mJoint limit: \u001b[30m\u001b[0mTrue\n",
      "\u001b[1m\u001b[30mConstraint visualization: \u001b[30m\u001b[0mFalse\n"
     ]
    },
    {
     "name": "stderr",
     "output_type": "stream",
     "text": [
      "Exception in thread Thread-6:\n",
      "Traceback (most recent call last):\n",
      "  File \"c:\\Users\\rnbmarch\\AppData\\Local\\anaconda3\\envs\\robotics\\lib\\threading.py\", line 932, in _bootstrap_inner\n",
      "    self.run()\n",
      "  File \"c:\\Users\\rnbmarch\\AppData\\Local\\anaconda3\\envs\\robotics\\lib\\site-packages\\ipykernel\\ipkernel.py\", line 766, in run_closure\n",
      "    _threading_Thread_run(self)\n",
      "  File \"c:\\Users\\rnbmarch\\AppData\\Local\\anaconda3\\envs\\robotics\\lib\\threading.py\", line 870, in run\n",
      "    self._target(*self._args, **self._kwargs)\n",
      "  File \"c:\\Users\\rnbmarch\\OneDrive - postech.ac.kr\\바탕 화면\\robotics\\mech439_pybullet_framework-main\\src\\core\\pybullet_core.py\", line 123, in _thread_main\n",
      "    self.my_robot.robot_update()\n",
      "  File \"c:\\Users\\rnbmarch\\OneDrive - postech.ac.kr\\바탕 화면\\robotics\\mech439_pybullet_framework-main\\src\\core\\pybullet_robot.py\", line 57, in robot_update\n",
      "    self._get_robot_states()      # update robot's states\n",
      "  File \"c:\\Users\\rnbmarch\\OneDrive - postech.ac.kr\\바탕 화면\\robotics\\mech439_pybullet_framework-main\\src\\core\\pybullet_robot.py\", line 293, in _get_robot_states\n",
      "    states = p.getJointState(self.robotId, idx, physicsClientId=self.ClientId)\n",
      "pybullet.error: Not connected to physics server.\n"
     ]
    }
   ],
   "source": [
    "pb = PybulletCore()\n",
    "pb.connect(robot_name = \"indy7_v2\", joint_limit=True, constraint_visualization = False)"
   ]
  },
  {
   "cell_type": "markdown",
   "id": "655bd39a",
   "metadata": {
    "pycharm": {
     "name": "#%% md\n"
    }
   },
   "source": [
    "# Move robot"
   ]
  },
  {
   "cell_type": "code",
   "execution_count": 43,
   "id": "82a917c0-fa43-41db-9f97-188f332ff3cd",
   "metadata": {},
   "outputs": [
    {
     "name": "stdout",
     "output_type": "stream",
     "text": [
      "\u001b[1m\u001b[34m***** Set desired joint angle *****\u001b[30m\u001b[0m\n",
      "[ 0.      0.5236 -2.0944  0.     -1.5708  0.    ]\n"
     ]
    }
   ],
   "source": [
    "pb.MoveRobot([0, 30, -120, 0, -90, 0], degree=True, verbose=True)\n",
    "from time import sleep\n",
    "sleep(3)"
   ]
  },
  {
   "cell_type": "markdown",
   "id": "6355fb9d",
   "metadata": {},
   "source": [
    "# Get PyBullet robot's properties (Current states)"
   ]
  },
  {
   "cell_type": "code",
   "execution_count": 44,
   "id": "9d120f3b",
   "metadata": {},
   "outputs": [
    {
     "name": "stdout",
     "output_type": "stream",
     "text": [
      "\u001b[1m\u001b[33mJoint position (rad): \u001b[30m\u001b[0m[[ 0.      0.5236 -2.0944  0.     -1.5708  0.    ]]\n",
      "\u001b[1m\u001b[33mJoint velocity (rad/s): \u001b[30m\u001b[0m[[-0. -0.  0.  0.  0. -0.]]\n",
      "\u001b[1m\u001b[33mEnd-effector's pose in xyz-xi vector: \u001b[30m\u001b[0m[[ 0.125  -0.2025  0.5772  0.     -3.1416  0.    ]]\n",
      "\u001b[1m\u001b[33mEnd-effector's pose in SE3\n",
      ": \u001b[30m\u001b[0m[[-1.     -0.     -0.      0.125 ]\n",
      " [-0.      1.     -0.     -0.2025]\n",
      " [ 0.     -0.     -1.      0.5772]\n",
      " [ 0.      0.      0.      1.    ]]\n",
      "\u001b[1m\u001b[33mRobot's jacobian\n",
      ": \u001b[30m\u001b[0m[[ 0.2025 -0.2777  0.112  -0.      0.112  -0.    ]\n",
      " [ 0.125   0.      0.      0.112  -0.     -0.    ]\n",
      " [ 0.      0.125   0.35   -0.199  -0.      0.    ]\n",
      " [ 0.     -0.     -0.     -1.     -0.     -0.    ]\n",
      " [-0.     -1.     -1.     -0.     -1.      0.    ]\n",
      " [-1.      0.      0.     -0.      0.      1.    ]]\n",
      "\u001b[1m\u001b[33mGravity compensate term: \u001b[30m\u001b[0m[[ 0.     -2.4299 14.7955 -3.342  -0.      0.    ]]\n"
     ]
    }
   ],
   "source": [
    "q = pb.my_robot.q\n",
    "PRINT_YELLOW(\"Joint position (rad)\", q.T)\n",
    "\n",
    "qdot = pb.my_robot.qdot\n",
    "PRINT_YELLOW(\"Joint velocity (rad/s)\", qdot.T) #dq.T\n",
    "\n",
    "p = pb.my_robot.p\n",
    "PRINT_YELLOW(\"End-effector's pose in xyz-xi vector\", p.T)\n",
    "\n",
    "T_end = pb.my_robot.T_end\n",
    "PRINT_YELLOW(\"End-effector's pose in SE3\\n\", T_end)\n",
    "\n",
    "Jr = pb.my_robot.Jr\n",
    "PRINT_YELLOW(\"Robot's jacobian\\n\", Jr)\n",
    "\n",
    "g = pb.my_robot.g\n",
    "PRINT_YELLOW(\"Gravity compensate term\", g.T)"
   ]
  },
  {
   "cell_type": "markdown",
   "id": "c2b96255",
   "metadata": {},
   "source": [
    "# Rotation & Transformation Matrix Utils"
   ]
  },
  {
   "cell_type": "code",
   "execution_count": 45,
   "id": "bf631eaa",
   "metadata": {},
   "outputs": [
    {
     "name": "stdout",
     "output_type": "stream",
     "text": [
      "[[ 1.  0.  0.]\n",
      " [ 0.  0. -1.]\n",
      " [ 0.  1.  0.]]\n",
      "[90.  0.  0.]\n"
     ]
    }
   ],
   "source": [
    "# Euler angle -> Rotation matrix\n",
    "R = eul2Rot([90, 0, 0], seq='XYZ', degree=True)\n",
    "print(R)\n",
    "\n",
    "# Rotation matrix -> Euler angle\n",
    "eul = Rot2eul(R, seq='XYZ', degree=True)\n",
    "print(eul)"
   ]
  },
  {
   "cell_type": "code",
   "execution_count": 46,
   "id": "b61c89c6",
   "metadata": {},
   "outputs": [
    {
     "name": "stdout",
     "output_type": "stream",
     "text": [
      "[[ 1.   0.   0.   0.2]\n",
      " [ 0.   0.  -1.   0.3]\n",
      " [ 0.   1.   0.   0.4]\n",
      " [ 0.   0.   0.   1. ]]\n",
      "[0.2 0.3 0.4] [90.  0.  0.]\n"
     ]
    }
   ],
   "source": [
    "# xyz position + Euler angle -> Transformation matrix\n",
    "T = xyzeul2SE3([0.2, 0.3, 0.4], [90, 0, 0], seq='XYZ', degree=True)\n",
    "print(T)\n",
    "\n",
    "# Transformation matrix -> xyz position + Euler angle\n",
    "xyz = T[0:3, 3]\n",
    "eul = Rot2eul(T[0:3, 0:3], seq='XYZ', degree=True)\n",
    "print(xyz, eul)"
   ]
  },
  {
   "cell_type": "markdown",
   "id": "d3246e44",
   "metadata": {},
   "source": [
    "# Matrix Exponential/Logarithm (Out of this course!)"
   ]
  },
  {
   "cell_type": "code",
   "execution_count": 47,
   "id": "be3f61af",
   "metadata": {},
   "outputs": [
    {
     "name": "stdout",
     "output_type": "stream",
     "text": [
      "[[ 1.  0.  0.]\n",
      " [ 0.  0. -1.]\n",
      " [ 0.  1.  0.]]\n",
      "[[1.5708]\n",
      " [0.    ]\n",
      " [0.    ]]\n",
      "[[ 1.  0.  0.]\n",
      " [ 0. -0. -1.]\n",
      " [ 0.  1. -0.]]\n"
     ]
    }
   ],
   "source": [
    "R = eul2Rot([90, 0, 0], seq='XYZ', degree=True)\n",
    "print(R)\n",
    "\n",
    "# Rotation matrix -> 3-by-1 vector (log)\n",
    "xi = Rot2Vec(R)\n",
    "print(xi)\n",
    "\n",
    "# 3-by-1 vector -> rotation matrix (exp)\n",
    "R = Vec2Rot(xi)\n",
    "print(R)"
   ]
  },
  {
   "cell_type": "code",
   "execution_count": 48,
   "id": "900abc13",
   "metadata": {},
   "outputs": [
    {
     "name": "stdout",
     "output_type": "stream",
     "text": [
      "[[ 1.   0.   0.   0.2]\n",
      " [ 0.   0.  -1.   0.3]\n",
      " [ 0.   1.   0.   0.4]\n",
      " [ 0.   0.   0.   1. ]]\n",
      "[[1.5708]\n",
      " [0.    ]\n",
      " [0.    ]\n",
      " [0.2   ]\n",
      " [0.5498]\n",
      " [0.0785]]\n",
      "[[ 1.   0.   0.   0.2]\n",
      " [ 0.  -0.  -1.   0.3]\n",
      " [ 0.   1.  -0.   0.4]\n",
      " [ 0.   0.   0.   1. ]]\n",
      "[[0.2   ]\n",
      " [0.3   ]\n",
      " [0.4   ]\n",
      " [1.5708]\n",
      " [0.    ]\n",
      " [0.    ]]\n",
      "[[ 1.   0.   0.   0.2]\n",
      " [ 0.  -0.  -1.   0.3]\n",
      " [ 0.   1.  -0.   0.4]\n",
      " [ 0.   0.   0.   1. ]]\n"
     ]
    }
   ],
   "source": [
    "T = xyzeul2SE3([0.2, 0.3, 0.4], [90, 0, 0], seq='XYZ', degree=True)\n",
    "print(T)\n",
    "\n",
    "# Transformation matrix -> 6-by-1 vector (log)\n",
    "lamb = SE32Vec(T)\n",
    "print(lamb)\n",
    "\n",
    "# 6-by-1 vector -> transformation matrix (exp)\n",
    "T = Vec2SE3(lamb)\n",
    "print(T)\n",
    "\n",
    "# Transformation matrix -> xyz-xi vector (decoupled: position (xyz) and orientation(xi))\n",
    "xyz_xi = SE32PoseVec(T)\n",
    "print(xyz_xi)\n",
    "\n",
    "# xyz-xi vector -> transformation matrix\n",
    "T = PoseVec2SE3(xyz_xi)\n",
    "print(T)"
   ]
  },
  {
   "cell_type": "markdown",
   "id": "2628fb04",
   "metadata": {},
   "source": [
    "# Inverse Kinematics"
   ]
  },
  {
   "cell_type": "code",
   "execution_count": null,
   "id": "f0e0fdb9",
   "metadata": {},
   "outputs": [],
   "source": [
    "T_goal = xyzeul2SE3([0, -0.5, 0.5], [0,45,0], seq='ZYZ', degree=True)\n",
    "\n",
    "pb.add_debug_frames([T_goal])\n",
    "print(T_goal)\n",
    "\n",
    "q_i = pb.my_robot.q\n",
    "qlist = np.zeros([6, 0])\n",
    "qlist = np.concatenate((qlist, q_i), axis=1)\n",
    "for _ in range(100):\n",
    "    T_i = pb.my_robot.pinModel.FK(q_i)\n",
    "    Jb_i = pb.my_robot.pinModel.Jb(q_i)\n",
    "\n",
    "    R_i = T_i[0:3, 0:3]\n",
    "    A_upper = np.concatenate((np.zeros([3, 3]), R_i), axis=1)\n",
    "    A_lower = np.concatenate((np.eye(3), np.zeros([3, 3])), axis=1)\n",
    "    A = np.concatenate((A_upper, A_lower), axis=0)\n",
    "\n",
    "    Jv_i = A @ Jb_i\n",
    "    \n",
    "    R_goal = T_goal[0:3, 0:3]\n",
    "    euler_goal = Rot2eul(R_goal, seq='ZYZ', degree=True) * np.pi / 180\n",
    "    euler_i = Rot2eul(R_i, seq='ZYZ', degree=True) * np.pi / 180\n",
    "\n",
    "    phi_i, theta_i, psi_i = euler_i\n",
    "    Tr_i = np.array([[0, -np.sin(phi_i), np.cos(phi_i)*np.sin(theta_i)],\n",
    "                     [0, np.cos(phi_i), np.sin(phi_i)*np.sin(theta_i)],\n",
    "                     [1, 0, np.cos(theta_i)]])\n",
    "    Tr_i = np.linalg.pinv(Tr_i)\n",
    "    \n",
    "    \n",
    "    B_upper = np.concatenate((np.eye(3), np.zeros([3, 3])), axis=1)\n",
    "    B_lower = np.concatenate((np.zeros([3, 3]), Tr_i), axis=1)\n",
    "    B = np.concatenate((B_upper, B_lower), axis=0)\n",
    "\n",
    "    Jr_i = B @ Jv_i\n",
    "\n",
    "    #TODO: Define error\n",
    "    p_err = \n",
    " \n",
    "    #TODO: Update q\n",
    "    q_i = \n",
    "\n",
    "    qlist = np.concatenate((qlist, q_i), axis=1)\n",
    "    pb.MoveRobot(q_i, degree=False)\n",
    "    sleep(0.1)\n",
    "\n",
    "import matplotlib.pyplot as plt\n",
    "\n",
    "fig = plt.figure()\n",
    "plt.plot(qlist.T*180/np.pi)\n",
    "plt.legend([\"q1\", \"q2\", \"q3\", \"q4\", \"q5\", \"q6\"])\n",
    "plt.xlabel(\"Step\")\n",
    "plt.ylabel(\"Joint angle (deg)\")\n",
    "plt.yticks([-180, -120, -60, 0, 60, 120, 180])\n",
    "plt.show()"
   ]
  }
 ],
 "metadata": {
  "kernelspec": {
   "display_name": "Python 3 (ipykernel)",
   "language": "python",
   "name": "python3"
  },
  "language_info": {
   "codemirror_mode": {
    "name": "ipython",
    "version": 3
   },
   "file_extension": ".py",
   "mimetype": "text/x-python",
   "name": "python",
   "nbconvert_exporter": "python",
   "pygments_lexer": "ipython3",
   "version": "3.8.19"
  },
  "toc": {
   "base_numbering": 1,
   "nav_menu": {},
   "number_sections": true,
   "sideBar": false,
   "skip_h1_title": false,
   "title_cell": "Table of Contents",
   "title_sidebar": "Contents",
   "toc_cell": true,
   "toc_position": {},
   "toc_section_display": true,
   "toc_window_display": true
  }
 },
 "nbformat": 4,
 "nbformat_minor": 5
}
