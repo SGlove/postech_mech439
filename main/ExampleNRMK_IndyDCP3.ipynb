{
 "cells": [
  {
   "cell_type": "markdown",
   "id": "0baaf954",
   "metadata": {},
   "source": [
    "http://docs.neuromeka.com/3.2.0/kr/IndyAPI/indydcp3_python/"
   ]
  },
  {
   "cell_type": "code",
   "execution_count": 7,
   "id": "9407f033",
   "metadata": {
    "scrolled": true
   },
   "outputs": [],
   "source": [
    "import os\n",
    "import sys\n",
    "\n",
    "import numpy as np\n",
    "import matplotlib.pyplot as plt\n",
    "import time\n",
    "\n",
    "sys.path.append(\"../\")\n",
    "\n",
    "from src.utils import *\n",
    "from src.core.pybullet_core import PybulletCore\n",
    "\n",
    "from neuromeka import IndyDCP3"
   ]
  },
  {
   "cell_type": "markdown",
   "id": "3df204d9",
   "metadata": {},
   "source": [
    "# Connect to Indy7\n",
    "***\n",
    "- **Robot #1**: 192.168.0.8\n",
    "- **Robot #2**: 192.168.0.11\n",
    "- **Robot #3**: 192.168.0.12\n",
    "- **Robot #4**: 192.168.0.13\n",
    "- **Robot #5**: 192.168.0.10\n",
    "- **Robot #6**: 192.168.0.9\n",
    "***\n",
    "<img src=\"./figures/indy7v2_image.jpg\" width=\"20%\" height=\"20%\"></img>"
   ]
  },
  {
   "cell_type": "code",
   "execution_count": 8,
   "id": "c82186c6",
   "metadata": {},
   "outputs": [],
   "source": [
    "indy = IndyDCP3(robot_ip='192.168.0.12', index=0)"
   ]
  },
  {
   "cell_type": "markdown",
   "id": "0e7d6528",
   "metadata": {},
   "source": [
    "# Real-time Data Acquisition Functions\n",
    "http://docs.neuromeka.com/3.2.0/kr/IndyAPI/indydcp3_python/#_3"
   ]
  },
  {
   "cell_type": "markdown",
   "id": "43ae65e0",
   "metadata": {},
   "source": [
    "### get_motion_data()\n",
    ": Information on Motion Data"
   ]
  },
  {
   "cell_type": "code",
   "execution_count": 5,
   "id": "d193bdf4",
   "metadata": {},
   "outputs": [
    {
     "ename": "_InactiveRpcError",
     "evalue": "<_InactiveRpcError of RPC that terminated with:\n\tstatus = StatusCode.UNAVAILABLE\n\tdetails = \"failed to connect to all addresses; last error: UNKNOWN: ipv4:192.168.0.12:20004: socket is null\"\n\tdebug_error_string = \"UNKNOWN:failed to connect to all addresses; last error: UNKNOWN: ipv4:192.168.0.12:20004: socket is null {created_time:\"2025-05-29T09:56:42.2761549+00:00\", grpc_status:14}\"\n>",
     "output_type": "error",
     "traceback": [
      "\u001b[1;31m---------------------------------------------------------------------------\u001b[0m",
      "\u001b[1;31m_InactiveRpcError\u001b[0m                         Traceback (most recent call last)",
      "Cell \u001b[1;32mIn[5], line 1\u001b[0m\n\u001b[1;32m----> 1\u001b[0m motion_data \u001b[38;5;241m=\u001b[39m \u001b[43mindy\u001b[49m\u001b[38;5;241;43m.\u001b[39;49m\u001b[43mget_motion_data\u001b[49m\u001b[43m(\u001b[49m\u001b[43m)\u001b[49m\n\u001b[0;32m      2\u001b[0m \u001b[38;5;28;01mfor\u001b[39;00m key, value \u001b[38;5;129;01min\u001b[39;00m \u001b[38;5;28mzip\u001b[39m(motion_data\u001b[38;5;241m.\u001b[39mkeys(), motion_data\u001b[38;5;241m.\u001b[39mvalues()):\n\u001b[0;32m      3\u001b[0m     PRINT_BLACK(key, value)\n",
      "File \u001b[1;32mc:\\Users\\user\\Desktop\\MECH_project\\postech_mech439\\main\\.conda\\lib\\site-packages\\neuromeka\\indydcp3.py:137\u001b[0m, in \u001b[0;36mIndyDCP3.get_motion_data\u001b[1;34m(self)\u001b[0m\n\u001b[0;32m    121\u001b[0m \u001b[38;5;28;01mdef\u001b[39;00m\u001b[38;5;250m \u001b[39m\u001b[38;5;21mget_motion_data\u001b[39m(\u001b[38;5;28mself\u001b[39m):\n\u001b[0;32m    122\u001b[0m \u001b[38;5;250m    \u001b[39m\u001b[38;5;124;03m\"\"\"\u001b[39;00m\n\u001b[0;32m    123\u001b[0m \u001b[38;5;124;03m    Motion Data:\u001b[39;00m\n\u001b[0;32m    124\u001b[0m \u001b[38;5;124;03m        traj_state   -> TrajState\u001b[39;00m\n\u001b[1;32m   (...)\u001b[0m\n\u001b[0;32m    135\u001b[0m \u001b[38;5;124;03m        cur_traj_progress  -> int32\u001b[39;00m\n\u001b[0;32m    136\u001b[0m \u001b[38;5;124;03m    \"\"\"\u001b[39;00m\n\u001b[1;32m--> 137\u001b[0m     response \u001b[38;5;241m=\u001b[39m \u001b[38;5;28;43mself\u001b[39;49m\u001b[38;5;241;43m.\u001b[39;49m\u001b[43mrtde\u001b[49m\u001b[38;5;241;43m.\u001b[39;49m\u001b[43mGetMotionData\u001b[49m\u001b[43m(\u001b[49m\u001b[43mcommon_msgs\u001b[49m\u001b[38;5;241;43m.\u001b[39;49m\u001b[43mEmpty\u001b[49m\u001b[43m(\u001b[49m\u001b[43m)\u001b[49m\u001b[43m)\u001b[49m\n\u001b[0;32m    138\u001b[0m     \u001b[38;5;28;01mreturn\u001b[39;00m json_format\u001b[38;5;241m.\u001b[39mMessageToDict(response,\n\u001b[0;32m    139\u001b[0m                                      including_default_value_fields\u001b[38;5;241m=\u001b[39m\u001b[38;5;28;01mTrue\u001b[39;00m,\n\u001b[0;32m    140\u001b[0m                                      preserving_proto_field_name\u001b[38;5;241m=\u001b[39m\u001b[38;5;28;01mTrue\u001b[39;00m,\n\u001b[0;32m    141\u001b[0m                                      use_integers_for_enums\u001b[38;5;241m=\u001b[39m\u001b[38;5;28;01mTrue\u001b[39;00m)\n",
      "File \u001b[1;32mc:\\Users\\user\\Desktop\\MECH_project\\postech_mech439\\main\\.conda\\lib\\site-packages\\grpc\\_channel.py:1161\u001b[0m, in \u001b[0;36m_UnaryUnaryMultiCallable.__call__\u001b[1;34m(self, request, timeout, metadata, credentials, wait_for_ready, compression)\u001b[0m\n\u001b[0;32m   1146\u001b[0m \u001b[38;5;28;01mdef\u001b[39;00m\u001b[38;5;250m \u001b[39m\u001b[38;5;21m__call__\u001b[39m(\n\u001b[0;32m   1147\u001b[0m     \u001b[38;5;28mself\u001b[39m,\n\u001b[0;32m   1148\u001b[0m     request: Any,\n\u001b[1;32m   (...)\u001b[0m\n\u001b[0;32m   1153\u001b[0m     compression: Optional[grpc\u001b[38;5;241m.\u001b[39mCompression] \u001b[38;5;241m=\u001b[39m \u001b[38;5;28;01mNone\u001b[39;00m,\n\u001b[0;32m   1154\u001b[0m ) \u001b[38;5;241m-\u001b[39m\u001b[38;5;241m>\u001b[39m Any:\n\u001b[0;32m   1155\u001b[0m     (\n\u001b[0;32m   1156\u001b[0m         state,\n\u001b[0;32m   1157\u001b[0m         call,\n\u001b[0;32m   1158\u001b[0m     ) \u001b[38;5;241m=\u001b[39m \u001b[38;5;28mself\u001b[39m\u001b[38;5;241m.\u001b[39m_blocking(\n\u001b[0;32m   1159\u001b[0m         request, timeout, metadata, credentials, wait_for_ready, compression\n\u001b[0;32m   1160\u001b[0m     )\n\u001b[1;32m-> 1161\u001b[0m     \u001b[38;5;28;01mreturn\u001b[39;00m \u001b[43m_end_unary_response_blocking\u001b[49m\u001b[43m(\u001b[49m\u001b[43mstate\u001b[49m\u001b[43m,\u001b[49m\u001b[43m \u001b[49m\u001b[43mcall\u001b[49m\u001b[43m,\u001b[49m\u001b[43m \u001b[49m\u001b[38;5;28;43;01mFalse\u001b[39;49;00m\u001b[43m,\u001b[49m\u001b[43m \u001b[49m\u001b[38;5;28;43;01mNone\u001b[39;49;00m\u001b[43m)\u001b[49m\n",
      "File \u001b[1;32mc:\\Users\\user\\Desktop\\MECH_project\\postech_mech439\\main\\.conda\\lib\\site-packages\\grpc\\_channel.py:1004\u001b[0m, in \u001b[0;36m_end_unary_response_blocking\u001b[1;34m(state, call, with_call, deadline)\u001b[0m\n\u001b[0;32m   1002\u001b[0m         \u001b[38;5;28;01mreturn\u001b[39;00m state\u001b[38;5;241m.\u001b[39mresponse\n\u001b[0;32m   1003\u001b[0m \u001b[38;5;28;01melse\u001b[39;00m:\n\u001b[1;32m-> 1004\u001b[0m     \u001b[38;5;28;01mraise\u001b[39;00m _InactiveRpcError(state)\n",
      "\u001b[1;31m_InactiveRpcError\u001b[0m: <_InactiveRpcError of RPC that terminated with:\n\tstatus = StatusCode.UNAVAILABLE\n\tdetails = \"failed to connect to all addresses; last error: UNKNOWN: ipv4:192.168.0.12:20004: socket is null\"\n\tdebug_error_string = \"UNKNOWN:failed to connect to all addresses; last error: UNKNOWN: ipv4:192.168.0.12:20004: socket is null {created_time:\"2025-05-29T09:56:42.2761549+00:00\", grpc_status:14}\"\n>"
     ]
    }
   ],
   "source": [
    "motion_data = indy.get_motion_data()\n",
    "for key, value in zip(motion_data.keys(), motion_data.values()):\n",
    "    PRINT_BLACK(key, value)"
   ]
  },
  {
   "cell_type": "markdown",
   "id": "de68c34e",
   "metadata": {},
   "source": [
    "### get_control_data()\n",
    ": Information on Control Data"
   ]
  },
  {
   "cell_type": "code",
   "execution_count": null,
   "id": "00cd56ed",
   "metadata": {},
   "outputs": [],
   "source": [
    "control_data = indy.get_control_data()\n",
    "for key, value in zip(control_data.keys(), control_data.values()):\n",
    "    PRINT_BLACK(key, value)"
   ]
  },
  {
   "cell_type": "markdown",
   "id": "fdf52bd9",
   "metadata": {},
   "source": [
    "### get_violation_data()\n",
    ": Information on Violation Data"
   ]
  },
  {
   "cell_type": "code",
   "execution_count": null,
   "id": "069cb374",
   "metadata": {},
   "outputs": [],
   "source": [
    "violation_data = indy.get_violation_data()\n",
    "for key, value in zip(violation_data.keys(), violation_data.values()):\n",
    "    PRINT_BLACK(key, value)"
   ]
  },
  {
   "cell_type": "markdown",
   "id": "f0f0eb40",
   "metadata": {},
   "source": [
    "# Motion Command Data Related Functions\n",
    "http://docs.neuromeka.com/3.2.0/kr/IndyAPI/indydcp3_python/#_5"
   ]
  },
  {
   "cell_type": "markdown",
   "id": "9ae7668f",
   "metadata": {},
   "source": [
    "### stop_motion(stop_category)\n",
    ": Stops motion in the specified manner (IMMEDIATE_BRAKE, SMOOTH_BRAKE, SMOOTH_ONLY)"
   ]
  },
  {
   "cell_type": "code",
   "execution_count": null,
   "id": "c1cd91dc",
   "metadata": {},
   "outputs": [],
   "source": [
    "IMMEDIATE_BRAKE = 0 # cat0 stop\n",
    "SMOOTH_BRAKE = 1    # cat1 stop\n",
    "SMOOTH_ONLY = 2     # cat2 stop\n",
    "stop_response = indy.stop_motion(stop_category=SMOOTH_ONLY)"
   ]
  },
  {
   "cell_type": "markdown",
   "id": "809fce56",
   "metadata": {},
   "source": [
    "### movej(...)\n",
    ": Moves the robot to the specified joint target position with various conditions.\n",
    "***\n",
    "### Arguments\n",
    "- **jtarget**         : List value in degrees (ex. **jtarget**=[0, -22, 100, 0, 100, 0])\n",
    "- **blending_type**   : Motion blending types (0: no blending, 1: override blending, 2: duplicate blending)\n",
    "- **base_type**       : reference joint frame types (0: alsolute joint values, 1: relative joint values)\n",
    "- **blending_radius** : blending radius betweem each via-points\n",
    "- **vel_ratio**       : motion velocity level (0~100)\n",
    "- **acc_ratio**       : motion acceleration level (0~900)\n",
    "\n",
    "### [Asynchronized motion blending] Overrive vs Duplicate\n",
    "<img src=\"./figures/asynchronized.png\" width=\"45%\" height=\"45%\"></img>"
   ]
  },
  {
   "cell_type": "code",
   "execution_count": null,
   "id": "4ea1c5c8",
   "metadata": {},
   "outputs": [],
   "source": [
    "### Joint motion 1\n",
    "target_pos = [0, -15, -75, 0, 0, -10]\n",
    "move_response = indy.movej(jtarget=target_pos)\n",
    "print(move_response)\n",
    "\n",
    "PRINT_BLUE(\"*** Robot's motion info ***\")\n",
    "motion_data = indy.get_motion_data()\n",
    "PRINT_BLACK(\"is_in_motion\", motion_data[\"is_in_motion\"])\n",
    "PRINT_BLACK(\"is_target_reached\", motion_data[\"is_target_reached\"])\n",
    "PRINT_BLACK(\"has_motion\", motion_data[\"has_motion\"])\n",
    "print()\n",
    "\n",
    "time.sleep(7)\n",
    "\n",
    "PRINT_BLUE(\"*** Robot's motion info ***\")\n",
    "motion_data = indy.get_motion_data()\n",
    "PRINT_BLACK(\"is_in_motion\", motion_data[\"is_in_motion\"])\n",
    "PRINT_BLACK(\"is_target_reached\", motion_data[\"is_target_reached\"])\n",
    "PRINT_BLACK(\"has_motion\", motion_data[\"has_motion\"])\n",
    "print()\n",
    "    \n",
    "### Joint motion 2\n",
    "target_pos = [0,-15, -75, -25, 0, -10]\n",
    "move_response = indy.movej(jtarget=target_pos)\n",
    "print(move_response)\n",
    "\n",
    "PRINT_BLUE(\"*** Robot's motion info ***\")\n",
    "motion_data = indy.get_motion_data()\n",
    "PRINT_BLACK(\"is_in_motion\", motion_data[\"is_in_motion\"])\n",
    "PRINT_BLACK(\"is_target_reached\", motion_data[\"is_target_reached\"])\n",
    "PRINT_BLACK(\"has_motion\", motion_data[\"has_motion\"])\n",
    "print()\n",
    "\n",
    "time.sleep(7)\n",
    "\n",
    "PRINT_BLUE(\"*** Robot's motion info ***\")\n",
    "motion_data = indy.get_motion_data()\n",
    "PRINT_BLACK(\"is_in_motion\", motion_data[\"is_in_motion\"])\n",
    "PRINT_BLACK(\"is_target_reached\", motion_data[\"is_target_reached\"])\n",
    "PRINT_BLACK(\"has_motion\", motion_data[\"has_motion\"])\n",
    "print()"
   ]
  },
  {
   "cell_type": "code",
   "execution_count": null,
   "id": "fb2aea02",
   "metadata": {},
   "outputs": [],
   "source": [
    "NO_BLENDING = 0\n",
    "OVERRIDE_BLENDING = 1\n",
    "DUPLICATE_BLENDING = 2\n",
    "\n",
    "target_pos1 = [50, -22, 100, 0, 100, 0]\n",
    "target_pos2 = [0, -22, 100, 0, 100, 0]\n",
    "\n",
    "indy.movej(target_pos1, blending_type=OVERRIDE_BLENDING)\n",
    "time.sleep(0.5)\n",
    "indy.movej(target_pos2, blending_type=OVERRIDE_BLENDING)"
   ]
  },
  {
   "cell_type": "code",
   "execution_count": null,
   "id": "e96901b0",
   "metadata": {},
   "outputs": [],
   "source": [
    "ABSOLUTE_JOINT = 0\n",
    "RELATIVE_JOINT = 1\n",
    "\n",
    "target_pos1 = [-30, 0, 0, 0, 0, 0]\n",
    "\n",
    "# move_response = indy.movej(target_pos1, blending_type=NO_BLENDING, base_type=ABSOLUTE_JOINT, vel_ratio=50, acc_ratio=100)\n",
    "move_response = indy.movej(target_pos1, blending_type=NO_BLENDING, base_type=RELATIVE_JOINT, vel_ratio=50, acc_ratio=100)\n",
    "print(move_response)"
   ]
  },
  {
   "cell_type": "markdown",
   "id": "b3b36588",
   "metadata": {},
   "source": [
    "# movej_time(...)\n",
    ": Moves the robot to the joint target position over a specified time.\n",
    "***\n",
    "### Arguments\n",
    "- **jtarget**         : List value in degrees (ex. **jtarget**=[0, -22, 100, 0, 100, 0])\n",
    "- **blending_type**   : Motion blending types (0: no blending, 1: override blending, 2: duplicate blending)\n",
    "- **base_type**       : reference joint frame types (0: alsolute joint values, 1: relative joint values)\n",
    "- **blending_radius** : blending radius betweem each via-points\n",
    "- **move_time**       : entire movement time (sec)"
   ]
  },
  {
   "cell_type": "markdown",
   "id": "0c3d0c1f",
   "metadata": {},
   "source": [
    "# movel(...), movel_time(...)\n",
    ": Moves the robot linearly to the specified task target position with various conditions.\n",
    "***\n",
    "### Arguments\n",
    "- **ttarget**         : List value in [xyz(mm), eul_xyz(deg)] (ex. **ttarget**=[0.4, 0, 0.4, 0, 180, 0])\n",
    "- **blending_type**   : Motion blending types (0: no blending, 1: override blending, 2: duplicate blending)\n",
    "- **base_type**       : reference task frame types (0: alsolute world frame, 1: relative world frame, 2: relative TCP frame)\n",
    "- **blending_radius** : blending radius betweem each via-points\n",
    "- (movel) **vel_ratio**       : motion velocity level (0~100)\n",
    "- (movel) **acc_ratio**       : motion acceleration level (0~900)\n",
    "- (movel_time) **move_time**       : entire movement time (sec)\n",
    "***\n",
    "<img src=\"./figures/BaseFrame.png\" width=\"90%\" height=\"90%\"></img>"
   ]
  },
  {
   "cell_type": "markdown",
   "id": "6af5dd55",
   "metadata": {},
   "source": [
    "# Inverse Kinematics & Direct Teaching Mode\n",
    "***\n",
    "http://docs.neuromeka.com/3.2.0/en/IndyAPI/indydcp3_python/#inverse-kinematics-and-simulation-mode-related-functions"
   ]
  },
  {
   "cell_type": "markdown",
   "id": "7cfc46a4",
   "metadata": {},
   "source": [
    "### inverse_kin(tpos, init_jpos)\n",
    ": A function that calculates the joint positions that can reach a given task space coordinate, based on the initial joint positions.\n",
    "***\n",
    "### Arguments\n",
    "- **tpos**         : Target task space position (ex. **tpos**=[0.4, 0, 0.4, 0, 180, 0])\n",
    "- **init_jpos**   : Initial joint position\n",
    "***\n",
    "### Return\n",
    "- **jpos**         : List of calculated joint positions"
   ]
  },
  {
   "cell_type": "code",
   "execution_count": null,
   "id": "040c4ac9",
   "metadata": {},
   "outputs": [],
   "source": [
    "tpos = indy.get_control_data()['p']\n",
    "init_jpos = indy.get_control_data()['q']\n",
    "\n",
    "print(\"Current tpos\", tpos)\n",
    "print(\"Current jpos\", init_jpos)\n",
    "\n",
    "ik_data = indy.inverse_kin(tpos, init_jpos)\n",
    "PRINT_BLACK(\"jpos\", ik_data[\"jpos\"])\n",
    "PRINT_BLACK(\"response\", ik_data[\"response\"])"
   ]
  },
  {
   "cell_type": "markdown",
   "id": "794abee9",
   "metadata": {},
   "source": [
    "### set_direct_teaching(enable)\n",
    ": Switching to the direct teaching mode.\n",
    "***\n",
    "### Arguments\n",
    "- **enable**         : Enable/Disable direct teaching mode via True/False (Bool)"
   ]
  },
  {
   "cell_type": "code",
   "execution_count": 6,
   "id": "9a120276",
   "metadata": {},
   "outputs": [
    {
     "ename": "KeyboardInterrupt",
     "evalue": "",
     "output_type": "error",
     "traceback": [
      "\u001b[1;31m---------------------------------------------------------------------------\u001b[0m",
      "\u001b[1;31mKeyboardInterrupt\u001b[0m                         Traceback (most recent call last)",
      "Cell \u001b[1;32mIn[6], line 1\u001b[0m\n\u001b[1;32m----> 1\u001b[0m \u001b[43mindy\u001b[49m\u001b[38;5;241;43m.\u001b[39;49m\u001b[43mset_direct_teaching\u001b[49m\u001b[43m(\u001b[49m\u001b[43menable\u001b[49m\u001b[38;5;241;43m=\u001b[39;49m\u001b[38;5;28;43;01mTrue\u001b[39;49;00m\u001b[43m)\u001b[49m\n",
      "File \u001b[1;32mc:\\Users\\user\\Desktop\\MECH_project\\postech_mech439\\main\\.conda\\lib\\site-packages\\neuromeka\\indydcp3.py:1464\u001b[0m, in \u001b[0;36mIndyDCP3.set_direct_teaching\u001b[1;34m(self, enable)\u001b[0m\n\u001b[0;32m   1460\u001b[0m \u001b[38;5;28;01mdef\u001b[39;00m\u001b[38;5;250m \u001b[39m\u001b[38;5;21mset_direct_teaching\u001b[39m(\u001b[38;5;28mself\u001b[39m, enable\u001b[38;5;241m=\u001b[39m\u001b[38;5;28;01mTrue\u001b[39;00m) \u001b[38;5;241m-\u001b[39m\u001b[38;5;241m>\u001b[39m \u001b[38;5;28mdict\u001b[39m:\n\u001b[0;32m   1461\u001b[0m \u001b[38;5;250m    \u001b[39m\u001b[38;5;124;03m\"\"\"\u001b[39;00m\n\u001b[0;32m   1462\u001b[0m \u001b[38;5;124;03m     enable = True | False\u001b[39;00m\n\u001b[0;32m   1463\u001b[0m \u001b[38;5;124;03m    \"\"\"\u001b[39;00m\n\u001b[1;32m-> 1464\u001b[0m     response \u001b[38;5;241m=\u001b[39m \u001b[38;5;28;43mself\u001b[39;49m\u001b[38;5;241;43m.\u001b[39;49m\u001b[43mcontrol\u001b[49m\u001b[38;5;241;43m.\u001b[39;49m\u001b[43mSetDirectTeaching\u001b[49m\u001b[43m(\u001b[49m\u001b[43mcommon_msgs\u001b[49m\u001b[38;5;241;43m.\u001b[39;49m\u001b[43mState\u001b[49m\u001b[43m(\u001b[49m\u001b[43menable\u001b[49m\u001b[38;5;241;43m=\u001b[39;49m\u001b[43menable\u001b[49m\u001b[43m)\u001b[49m\u001b[43m)\u001b[49m\n\u001b[0;32m   1465\u001b[0m     \u001b[38;5;28;01mreturn\u001b[39;00m json_format\u001b[38;5;241m.\u001b[39mMessageToDict(response,\n\u001b[0;32m   1466\u001b[0m                                      including_default_value_fields\u001b[38;5;241m=\u001b[39m\u001b[38;5;28;01mTrue\u001b[39;00m,\n\u001b[0;32m   1467\u001b[0m                                      preserving_proto_field_name\u001b[38;5;241m=\u001b[39m\u001b[38;5;28;01mTrue\u001b[39;00m,\n\u001b[0;32m   1468\u001b[0m                                      use_integers_for_enums\u001b[38;5;241m=\u001b[39m\u001b[38;5;28;01mTrue\u001b[39;00m)\n",
      "File \u001b[1;32mc:\\Users\\user\\Desktop\\MECH_project\\postech_mech439\\main\\.conda\\lib\\site-packages\\grpc\\_channel.py:1158\u001b[0m, in \u001b[0;36m_UnaryUnaryMultiCallable.__call__\u001b[1;34m(self, request, timeout, metadata, credentials, wait_for_ready, compression)\u001b[0m\n\u001b[0;32m   1146\u001b[0m \u001b[38;5;28;01mdef\u001b[39;00m\u001b[38;5;250m \u001b[39m\u001b[38;5;21m__call__\u001b[39m(\n\u001b[0;32m   1147\u001b[0m     \u001b[38;5;28mself\u001b[39m,\n\u001b[0;32m   1148\u001b[0m     request: Any,\n\u001b[1;32m   (...)\u001b[0m\n\u001b[0;32m   1153\u001b[0m     compression: Optional[grpc\u001b[38;5;241m.\u001b[39mCompression] \u001b[38;5;241m=\u001b[39m \u001b[38;5;28;01mNone\u001b[39;00m,\n\u001b[0;32m   1154\u001b[0m ) \u001b[38;5;241m-\u001b[39m\u001b[38;5;241m>\u001b[39m Any:\n\u001b[0;32m   1155\u001b[0m     (\n\u001b[0;32m   1156\u001b[0m         state,\n\u001b[0;32m   1157\u001b[0m         call,\n\u001b[1;32m-> 1158\u001b[0m     ) \u001b[38;5;241m=\u001b[39m \u001b[38;5;28;43mself\u001b[39;49m\u001b[38;5;241;43m.\u001b[39;49m\u001b[43m_blocking\u001b[49m\u001b[43m(\u001b[49m\n\u001b[0;32m   1159\u001b[0m \u001b[43m        \u001b[49m\u001b[43mrequest\u001b[49m\u001b[43m,\u001b[49m\u001b[43m \u001b[49m\u001b[43mtimeout\u001b[49m\u001b[43m,\u001b[49m\u001b[43m \u001b[49m\u001b[43mmetadata\u001b[49m\u001b[43m,\u001b[49m\u001b[43m \u001b[49m\u001b[43mcredentials\u001b[49m\u001b[43m,\u001b[49m\u001b[43m \u001b[49m\u001b[43mwait_for_ready\u001b[49m\u001b[43m,\u001b[49m\u001b[43m \u001b[49m\u001b[43mcompression\u001b[49m\n\u001b[0;32m   1160\u001b[0m \u001b[43m    \u001b[49m\u001b[43m)\u001b[49m\n\u001b[0;32m   1161\u001b[0m     \u001b[38;5;28;01mreturn\u001b[39;00m _end_unary_response_blocking(state, call, \u001b[38;5;28;01mFalse\u001b[39;00m, \u001b[38;5;28;01mNone\u001b[39;00m)\n",
      "File \u001b[1;32mc:\\Users\\user\\Desktop\\MECH_project\\postech_mech439\\main\\.conda\\lib\\site-packages\\grpc\\_channel.py:1142\u001b[0m, in \u001b[0;36m_UnaryUnaryMultiCallable._blocking\u001b[1;34m(self, request, timeout, metadata, credentials, wait_for_ready, compression)\u001b[0m\n\u001b[0;32m   1126\u001b[0m state\u001b[38;5;241m.\u001b[39mmethod \u001b[38;5;241m=\u001b[39m _common\u001b[38;5;241m.\u001b[39mdecode(\u001b[38;5;28mself\u001b[39m\u001b[38;5;241m.\u001b[39m_method)\n\u001b[0;32m   1127\u001b[0m call \u001b[38;5;241m=\u001b[39m \u001b[38;5;28mself\u001b[39m\u001b[38;5;241m.\u001b[39m_channel\u001b[38;5;241m.\u001b[39msegregated_call(\n\u001b[0;32m   1128\u001b[0m     cygrpc\u001b[38;5;241m.\u001b[39mPropagationConstants\u001b[38;5;241m.\u001b[39mGRPC_PROPAGATE_DEFAULTS,\n\u001b[0;32m   1129\u001b[0m     \u001b[38;5;28mself\u001b[39m\u001b[38;5;241m.\u001b[39m_method,\n\u001b[1;32m   (...)\u001b[0m\n\u001b[0;32m   1140\u001b[0m     \u001b[38;5;28mself\u001b[39m\u001b[38;5;241m.\u001b[39m_context,\n\u001b[0;32m   1141\u001b[0m )\n\u001b[1;32m-> 1142\u001b[0m event \u001b[38;5;241m=\u001b[39m \u001b[43mcall\u001b[49m\u001b[38;5;241;43m.\u001b[39;49m\u001b[43mnext_event\u001b[49m\u001b[43m(\u001b[49m\u001b[43m)\u001b[49m\n\u001b[0;32m   1143\u001b[0m _handle_event(event, state, \u001b[38;5;28mself\u001b[39m\u001b[38;5;241m.\u001b[39m_response_deserializer)\n\u001b[0;32m   1144\u001b[0m \u001b[38;5;28;01mreturn\u001b[39;00m state, call\n",
      "File \u001b[1;32msrc\\python\\grpcio\\grpc\\_cython\\_cygrpc/channel.pyx.pxi:366\u001b[0m, in \u001b[0;36mgrpc._cython.cygrpc.SegregatedCall.next_event\u001b[1;34m()\u001b[0m\n",
      "File \u001b[1;32msrc\\python\\grpcio\\grpc\\_cython\\_cygrpc/channel.pyx.pxi:187\u001b[0m, in \u001b[0;36mgrpc._cython.cygrpc._next_call_event\u001b[1;34m()\u001b[0m\n",
      "File \u001b[1;32msrc\\python\\grpcio\\grpc\\_cython\\_cygrpc/channel.pyx.pxi:181\u001b[0m, in \u001b[0;36mgrpc._cython.cygrpc._next_call_event\u001b[1;34m()\u001b[0m\n",
      "File \u001b[1;32msrc\\python\\grpcio\\grpc\\_cython\\_cygrpc/completion_queue.pyx.pxi:78\u001b[0m, in \u001b[0;36mgrpc._cython.cygrpc._latent_event\u001b[1;34m()\u001b[0m\n",
      "File \u001b[1;32msrc\\python\\grpcio\\grpc\\_cython\\_cygrpc/completion_queue.pyx.pxi:61\u001b[0m, in \u001b[0;36mgrpc._cython.cygrpc._internal_latent_event\u001b[1;34m()\u001b[0m\n",
      "File \u001b[1;32msrc\\python\\grpcio\\grpc\\_cython\\_cygrpc/completion_queue.pyx.pxi:42\u001b[0m, in \u001b[0;36mgrpc._cython.cygrpc._next\u001b[1;34m()\u001b[0m\n",
      "\u001b[1;31mKeyboardInterrupt\u001b[0m: "
     ]
    }
   ],
   "source": [
    "indy.set_direct_teaching(enable=True)"
   ]
  },
  {
   "cell_type": "code",
   "execution_count": null,
   "id": "b31f5236",
   "metadata": {},
   "outputs": [],
   "source": [
    "indy.set_direct_teaching(enable=False)"
   ]
  },
  {
   "cell_type": "code",
   "execution_count": null,
   "id": "b358c5e5",
   "metadata": {},
   "outputs": [],
   "source": [
    "indy.set_friction_comp(\n",
    "    control_comp=False, \n",
    "    control_comp_levels=[5, 5, 5, 5, 5, 5],\n",
    "    dt_comp=True,\n",
    "    dt_comp_levels=[2, 5, 2, 2, 5, 5]\n",
    ")"
   ]
  },
  {
   "cell_type": "code",
   "execution_count": null,
   "id": "d737f14a",
   "metadata": {},
   "outputs": [],
   "source": [
    "indy.set_direct_teaching(enable=True)"
   ]
  },
  {
   "cell_type": "code",
   "execution_count": null,
   "id": "e501f1e6",
   "metadata": {},
   "outputs": [],
   "source": [
    "indy.set_direct_teaching(enable=False)"
   ]
  },
  {
   "cell_type": "markdown",
   "id": "130129e4",
   "metadata": {},
   "source": [
    "### recover()\n",
    ": A function to recover the robot from error or collision situations. When the robot falls into an abnormal state, calling this function can restore it to normal condition."
   ]
  },
  {
   "cell_type": "code",
   "execution_count": null,
   "id": "7653deef-9f1d-4a33-bb4c-0bc933001a22",
   "metadata": {},
   "outputs": [],
   "source": [
    "indy.recover()"
   ]
  },
  {
   "cell_type": "markdown",
   "id": "967ceb83",
   "metadata": {},
   "source": [
    "# Future works \n",
    "### (TODO... Out of the scope of this course! (For an Advanced Robotics))\n",
    "- Customized low-level torque controller using IndySDK3.0"
   ]
  }
 ],
 "metadata": {
  "kernelspec": {
   "display_name": ".conda",
   "language": "python",
   "name": "python3"
  },
  "language_info": {
   "codemirror_mode": {
    "name": "ipython",
    "version": 3
   },
   "file_extension": ".py",
   "mimetype": "text/x-python",
   "name": "python",
   "nbconvert_exporter": "python",
   "pygments_lexer": "ipython3",
   "version": "3.10.17"
  }
 },
 "nbformat": 4,
 "nbformat_minor": 5
}
