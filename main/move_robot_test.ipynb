{
 "cells": [
  {
   "cell_type": "code",
   "execution_count": 29,
   "id": "8dcc5a6d",
   "metadata": {},
   "outputs": [],
   "source": [
    "import os\n",
    "import sys\n",
    "\n",
    "import numpy as np\n",
    "import matplotlib.pyplot as plt\n",
    "import time\n",
    "\n",
    "sys.path.append(\"../\")\n",
    "\n",
    "from src.utils import *\n",
    "from src.core.pybullet_core import PybulletCore\n",
    "\n",
    "from neuromeka import IndyDCP3\n",
    "from neuromeka import JointTeleopType, TaskTeleopType\n",
    "\n",
    "import cv2\n",
    "import imutils\n",
    "\n",
    "import camera_detector\n",
    "import threading\n",
    "\n",
    "indy = IndyDCP3(robot_ip='192.168.0.22', index=0)\n",
    "\n"
   ]
  },
  {
   "cell_type": "code",
   "execution_count": null,
   "id": "bb15d2ba",
   "metadata": {},
   "outputs": [
    {
     "data": {
      "text/plain": [
       "{'msg': 'MoveL Success', 'code': '0'}"
      ]
     },
     "execution_count": 24,
     "metadata": {},
     "output_type": "execute_result"
    }
   ],
   "source": [
    "home_pos = np.array([570, 10, 430, -85, 73.5, -90]) # x, y, z (mm), x, y, z (deg)\n",
    "indy.movel(ttarget = home_pos)"
   ]
  },
  {
   "cell_type": "code",
   "execution_count": null,
   "id": "14c22c4e",
   "metadata": {},
   "outputs": [],
   "source": [
    "indy.stop_teleop()"
   ]
  },
  {
   "cell_type": "code",
   "execution_count": 31,
   "id": "855ec0fb",
   "metadata": {},
   "outputs": [
    {
     "data": {
      "text/plain": [
       "{'msg': 'Success', 'code': '0'}"
      ]
     },
     "execution_count": 31,
     "metadata": {},
     "output_type": "execute_result"
    }
   ],
   "source": [
    "indy.recover()"
   ]
  },
  {
   "cell_type": "code",
   "execution_count": 17,
   "id": "9ecef642",
   "metadata": {},
   "outputs": [
    {
     "data": {
      "text/plain": [
       "{'msg': 'SetDirectTeaching Success', 'code': '0'}"
      ]
     },
     "execution_count": 17,
     "metadata": {},
     "output_type": "execute_result"
    }
   ],
   "source": [
    "indy.set_direct_teaching(enable=True)"
   ]
  },
  {
   "cell_type": "code",
   "execution_count": null,
   "id": "f3101fef",
   "metadata": {},
   "outputs": [],
   "source": [
    "indy.set_direct_teaching(enable=False)"
   ]
  }
 ],
 "metadata": {
  "kernelspec": {
   "display_name": "Python 3",
   "language": "python",
   "name": "python3"
  },
  "language_info": {
   "codemirror_mode": {
    "name": "ipython",
    "version": 3
   },
   "file_extension": ".py",
   "mimetype": "text/x-python",
   "name": "python",
   "nbconvert_exporter": "python",
   "pygments_lexer": "ipython3",
   "version": "3.10.17"
  }
 },
 "nbformat": 4,
 "nbformat_minor": 5
}
