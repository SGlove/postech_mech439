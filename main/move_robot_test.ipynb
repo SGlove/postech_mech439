{
 "cells": [
  {
   "cell_type": "code",
   "execution_count": 15,
   "id": "8dcc5a6d",
   "metadata": {},
   "outputs": [
    {
     "data": {
      "text/plain": [
       "{'msg': 'TeleOp Stop Requested', 'code': '0'}"
      ]
     },
     "execution_count": 15,
     "metadata": {},
     "output_type": "execute_result"
    }
   ],
   "source": [
    "import os\n",
    "import sys\n",
    "\n",
    "import numpy as np\n",
    "import matplotlib.pyplot as plt\n",
    "import time\n",
    "\n",
    "sys.path.append(\"../\")\n",
    "\n",
    "from src.utils import *\n",
    "from src.core.pybullet_core import PybulletCore\n",
    "\n",
    "from neuromeka import IndyDCP3\n",
    "from neuromeka import JointTeleopType, TaskTeleopType\n",
    "\n",
    "indy = IndyDCP3(robot_ip='192.168.0.22', index=0)\n",
    "\n",
    "def bounce(robot: IndyDCP3, current_robot_pos: np.ndarray, target_ball_pos: np.ndarray, bounce_force ):\n",
    "    robot.movetelel_abs(tpos = current_robot_pos - bounce_force * np.array([0, 0, 10, 0, 0, 0]))\n",
    "    time.sleep(0.05 * bounce_force)\n",
    "    robot.movetelel_abs(tpos = current_robot_pos)\n",
    "    time.sleep(0.05 * bounce_force)\n",
    "\n",
    "#move_response = indy.movej(jtarget = [-27, -20, -74, 98, -27, -113])\n",
    "\n",
    "indy.stop_teleop()\n",
    "\n",
    "horizontal_orientation_xyz = np.array([90, 104.5, 90])\n",
    "home_pos = np.array([500, 10, 500, 95, 104.5, 90]) # x, y, z (mm), x, y, z (deg)\n",
    "init_jpos = indy.get_control_data()['q']\n",
    "indy.movel(ttarget = home_pos)\n",
    "\n",
    "while (indy.get_motion_data()['is_in_motion'] == True):\n",
    "    time.sleep(0.01)\n",
    "time.sleep(1)\n",
    "\n",
    "while (indy.get_control_data()['op_state'] != 17):\n",
    "    time.sleep(1)\n",
    "    indy.start_teleop(method=TaskTeleopType.ABSOLUTE)\n",
    "time.sleep(1)\n",
    "\n",
    "\n",
    "'''\n",
    "repeat = 5\n",
    "i=0\n",
    "while i <repeat :\n",
    "    #bounce(indy, current_robot_pos=home_pos, target_ball_pos = home_pos + np.array([0, +200, 0, 0, 0, 0]), bounce_force = 20)\n",
    "    #indy.movetelel_abs(home_pos + np.array([0, +200, 0, 0, 0, 0]), vel_ratio=0.5, acc_ratio=1.0)\n",
    "    #time.sleep(3)\n",
    "    #bounce(indy, current_robot_pos = home_pos, target_ball_pos = home_pos + np.array([0, -200, 0, 0, 0, 0]))\n",
    "    #indy.movetelel_abs(home_pos + np.array([0, -200, 0, 0, 0, 0]), vel_ratio=0.5, acc_ratio=1.0)\n",
    "\n",
    "\n",
    "    indy.movetelel_abs(home_pos, vel_ratio= 0.9, acc_ratio=0.8)\n",
    "    time.sleep(1)\n",
    "    indy.movetelel_abs(home_pos + np.array([0, 0, -200, 0, 0, 0]), vel_ratio=0.9, acc_ratio=0.8)\n",
    "    time.sleep(1)\n",
    "    \n",
    "    i = i + 1\n",
    "'''\n",
    "time.sleep(3)\n",
    "indy.stop_teleop()\n"
   ]
  },
  {
   "cell_type": "code",
   "execution_count": null,
   "id": "14c22c4e",
   "metadata": {},
   "outputs": [
    {
     "data": {
      "text/plain": [
       "{'msg': 'TeleOp Stop Requested', 'code': '0'}"
      ]
     },
     "execution_count": 27,
     "metadata": {},
     "output_type": "execute_result"
    }
   ],
   "source": [
    "indy.stop_teleop()"
   ]
  },
  {
   "cell_type": "code",
   "execution_count": 10,
   "id": "855ec0fb",
   "metadata": {},
   "outputs": [
    {
     "data": {
      "text/plain": [
       "{'msg': 'Success', 'code': '0'}"
      ]
     },
     "execution_count": 10,
     "metadata": {},
     "output_type": "execute_result"
    }
   ],
   "source": [
    "indy.recover()"
   ]
  },
  {
   "cell_type": "code",
   "execution_count": null,
   "id": "9ecef642",
   "metadata": {},
   "outputs": [],
   "source": [
    "indy.set_direct_teaching(enable=True)"
   ]
  },
  {
   "cell_type": "code",
   "execution_count": null,
   "id": "f3101fef",
   "metadata": {},
   "outputs": [],
   "source": [
    "indy.set_direct_teaching(enable=False)"
   ]
  }
 ],
 "metadata": {
  "kernelspec": {
   "display_name": "Python 3",
   "language": "python",
   "name": "python3"
  },
  "language_info": {
   "codemirror_mode": {
    "name": "ipython",
    "version": 3
   },
   "file_extension": ".py",
   "mimetype": "text/x-python",
   "name": "python",
   "nbconvert_exporter": "python",
   "pygments_lexer": "ipython3",
   "version": "3.10.17"
  }
 },
 "nbformat": 4,
 "nbformat_minor": 5
}
