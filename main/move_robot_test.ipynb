{
 "cells": [
  {
   "cell_type": "code",
   "execution_count": 6,
   "id": "8dcc5a6d",
   "metadata": {},
   "outputs": [],
   "source": [
    "import os\n",
    "import sys\n",
    "\n",
    "import numpy as np\n",
    "import matplotlib.pyplot as plt\n",
    "import time\n",
    "\n",
    "sys.path.append(\"../\")\n",
    "\n",
    "from src.utils import *\n",
    "from src.core.pybullet_core import PybulletCore\n",
    "\n",
    "from neuromeka import IndyDCP3\n",
    "from neuromeka import JointTeleopType, TaskTeleopType\n"
   ]
  },
  {
   "cell_type": "code",
   "execution_count": 7,
   "id": "ac6db819",
   "metadata": {},
   "outputs": [],
   "source": [
    "def bounce(robot: IndyDCP3, current_robot_pos: np.ndarray, target_ball_pos: np.ndarray, bounce_force = 1.0):\n",
    "    robot.movetelel_abs(tpos = current_robot_pos - bounce_force * np.array([0, 0, 10, 0, 0, 0]))\n",
    "    time.sleep(0.05 * bounce_force)\n",
    "    robot.movetelel_abs(tpos = current_robot_pos)\n",
    "    time.sleep(0.05 * bounce_force)"
   ]
  },
  {
   "cell_type": "code",
   "execution_count": 8,
   "id": "d8dc073b",
   "metadata": {},
   "outputs": [],
   "source": [
    "indy = IndyDCP3(robot_ip='192.168.0.12', index=0)\n",
    "\n",
    "home_pos = np.array([550, -200, 500, 90, 104.5, 90])\n",
    "init_jpos = indy.get_control_data()['q']\n",
    "home_pos_ik = indy.inverse_kin(home_pos, init_jpos)[\"jpos\"]\n",
    "move_response = indy.movej(jtarget = home_pos_ik)\n",
    "\n",
    "time.sleep(1)\n",
    "\n",
    "indy.start_teleop(method=TaskTeleopType.ABSOLUTE)\n",
    "time.sleep(3)\n",
    "\n",
    "pos = np.array([0, 0, 80, 0, 0, 0])\n",
    "#init_jpos = indy.get_control_data()['q']\n",
    "#ik = indy.inverse_kin(home_pos + pos, init_jpos)[\"jpos\"]\n",
    "\n",
    "for i in range(5):\n",
    "    bounce(robot = indy, current_robot_pos = home_pos, target_ball_pos = np.array([0, 0, 0, 0, 0, 0]), bounce_force = 5)\n",
    "\n",
    "time.sleep(3)\n"
   ]
  },
  {
   "cell_type": "code",
   "execution_count": 9,
   "id": "14c22c4e",
   "metadata": {},
   "outputs": [
    {
     "data": {
      "text/plain": [
       "{'msg': 'TeleOp Stop Requested', 'code': '0'}"
      ]
     },
     "execution_count": 9,
     "metadata": {},
     "output_type": "execute_result"
    }
   ],
   "source": [
    "indy.stop_teleop()"
   ]
  },
  {
   "cell_type": "code",
   "execution_count": 10,
   "id": "855ec0fb",
   "metadata": {},
   "outputs": [],
   "source": [
    "#indy.recover()"
   ]
  }
 ],
 "metadata": {
  "kernelspec": {
   "display_name": "Python 3",
   "language": "python",
   "name": "python3"
  },
  "language_info": {
   "codemirror_mode": {
    "name": "ipython",
    "version": 3
   },
   "file_extension": ".py",
   "mimetype": "text/x-python",
   "name": "python",
   "nbconvert_exporter": "python",
   "pygments_lexer": "ipython3",
   "version": "3.10.17"
  }
 },
 "nbformat": 4,
 "nbformat_minor": 5
}
