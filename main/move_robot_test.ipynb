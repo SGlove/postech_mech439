{
 "cells": [
  {
   "cell_type": "code",
   "execution_count": 1,
   "id": "8dcc5a6d",
   "metadata": {},
   "outputs": [],
   "source": [
    "import os\n",
    "import sys\n",
    "\n",
    "import numpy as np\n",
    "import matplotlib.pyplot as plt\n",
    "import time\n",
    "\n",
    "sys.path.append(\"../\")\n",
    "\n",
    "from src.utils import *\n",
    "from src.core.pybullet_core import PybulletCore\n",
    "\n",
    "from neuromeka import IndyDCP3\n",
    "from neuromeka import JointTeleopType, TaskTeleopType\n",
    "\n",
    "indy = IndyDCP3(robot_ip='192.168.0.22', index=0)"
   ]
  },
  {
   "cell_type": "code",
   "execution_count": 2,
   "id": "ac6db819",
   "metadata": {},
   "outputs": [],
   "source": [
    "def bounce(robot: IndyDCP3, current_robot_pos: np.ndarray, target_ball_pos: np.ndarray, bounce_force = 1.0):\n",
    "    robot.movetelel_abs(tpos = current_robot_pos - bounce_force * np.array([0, 0, 10, 0, 0, 0]))\n",
    "    time.sleep(0.05 * bounce_force)\n",
    "    robot.movetelel_abs(tpos = current_robot_pos)\n",
    "    time.sleep(0.05 * bounce_force)"
   ]
  },
  {
   "cell_type": "code",
   "execution_count": null,
   "id": "d8dc073b",
   "metadata": {},
   "outputs": [
    {
     "name": "stdout",
     "output_type": "stream",
     "text": [
      "[350. -50. 500. 180. 209. 180.]\n",
      "[ 350. -350.  500.  180.  209.  180.]\n",
      "[ 750. -350.  500.  180.  209.  180.]\n",
      "[750. -50. 500. 180. 209. 180.]\n"
     ]
    }
   ],
   "source": [
    "horizontal_orientation_xyz = np.array([90, 104.5, 90])\n",
    "home_pos = np.array([550, -200, 500, 90, 104.5, 90]) # x, y, z (mm), x, y, z (deg)\n",
    "init_jpos = indy.get_control_data()['q']\n",
    "home_pos_ik = indy.inverse_kin(home_pos, init_jpos)[\"jpos\"]\n",
    "move_response = indy.movej(jtarget = home_pos_ik)\n",
    "time.sleep(2)\n",
    "\n",
    "#indy.start_teleop(method=TaskTeleopType.ABSOLUTE)\n",
    "#time.sleep(3)\n",
    "\n",
    "#pos = np.array([0, 0, 80, 0, 0, 0])\n",
    "#init_jpos = indy.get_control_data()['q']\n",
    "#ik = indy.inverse_kin(home_pos + pos, init_jpos)[\"jpos\"]\n",
    "\n",
    "vertex_points = np.array([[-200, 150, 0],\n",
    "                 [-200, -150, 0],\n",
    "                 [200, -150, 0],\n",
    "                 [200, 150, 0]])\n",
    "\n",
    "for translation in vertex_points:\n",
    "    target_t = home_pos + np.concatenate((translation, np.zeros(3)), axis = 0)\n",
    "    print(target_t)\n",
    "    indy.movel(ttarget = target_t)\n",
    "    time.sleep(2)\n",
    "\n",
    "time.sleep(3)\n"
   ]
  },
  {
   "cell_type": "code",
   "execution_count": 4,
   "id": "14c22c4e",
   "metadata": {},
   "outputs": [
    {
     "data": {
      "text/plain": [
       "{'msg': 'TeleOp Stop Requested', 'code': '0'}"
      ]
     },
     "execution_count": 4,
     "metadata": {},
     "output_type": "execute_result"
    }
   ],
   "source": [
    "indy.stop_teleop()"
   ]
  },
  {
   "cell_type": "code",
   "execution_count": 5,
   "id": "855ec0fb",
   "metadata": {},
   "outputs": [
    {
     "data": {
      "text/plain": [
       "{'msg': 'Success', 'code': '0'}"
      ]
     },
     "execution_count": 5,
     "metadata": {},
     "output_type": "execute_result"
    }
   ],
   "source": [
    "indy.recover()"
   ]
  }
 ],
 "metadata": {
  "kernelspec": {
   "display_name": "Python 3",
   "language": "python",
   "name": "python3"
  },
  "language_info": {
   "codemirror_mode": {
    "name": "ipython",
    "version": 3
   },
   "file_extension": ".py",
   "mimetype": "text/x-python",
   "name": "python",
   "nbconvert_exporter": "python",
   "pygments_lexer": "ipython3",
   "version": "3.10.17"
  }
 },
 "nbformat": 4,
 "nbformat_minor": 5
}
