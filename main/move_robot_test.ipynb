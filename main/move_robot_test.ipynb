{
 "cells": [
  {
   "cell_type": "code",
   "execution_count": 1,
   "id": "8dcc5a6d",
   "metadata": {},
   "outputs": [],
   "source": [
    "import os\n",
    "import sys\n",
    "\n",
    "import numpy as np\n",
    "import matplotlib.pyplot as plt\n",
    "import time\n",
    "\n",
    "sys.path.append(\"../\")\n",
    "\n",
    "from src.utils import *\n",
    "from src.core.pybullet_core import PybulletCore\n",
    "\n",
    "from neuromeka import IndyDCP3\n",
    "from neuromeka import JointTeleopType, TaskTeleopType\n",
    "\n",
    "indy = IndyDCP3(robot_ip='192.168.0.22', index=0)"
   ]
  },
  {
   "cell_type": "code",
   "execution_count": null,
   "id": "ac6db819",
   "metadata": {},
   "outputs": [],
   "source": [
    "def bounce(robot: IndyDCP3, current_robot_pos: np.ndarray, target_ball_pos: np.ndarray, bounce_force ):\n",
    "    robot.movetelel_abs(tpos = current_robot_pos - bounce_force * np.array([0, 0, 10, 0, 0, 0]))\n",
    "    time.sleep(0.05 * bounce_force)\n",
    "    robot.movetelel_abs(tpos = current_robot_pos)\n",
    "    time.sleep(0.05 * bounce_force)"
   ]
  },
  {
   "cell_type": "code",
   "execution_count": 6,
   "id": "edf6b91b",
   "metadata": {},
   "outputs": [
    {
     "data": {
      "text/plain": [
       "{'violation_code': '8192',\n",
       " 'j_index': 4,\n",
       " 'i_args': [0],\n",
       " 'f_args': [189.05186],\n",
       " 'violation_str': 'Standstill Failed'}"
      ]
     },
     "execution_count": 6,
     "metadata": {},
     "output_type": "execute_result"
    }
   ],
   "source": [
    "indy.get_violation_data()"
   ]
  },
  {
   "cell_type": "code",
   "execution_count": 13,
   "id": "2ff297d3",
   "metadata": {},
   "outputs": [
    {
     "name": "stdout",
     "output_type": "stream",
     "text": [
      "\u001b[1m\u001b[30mrunning_hours: \u001b[30m\u001b[0m1\n",
      "\u001b[1m\u001b[30mrunning_mins: \u001b[30m\u001b[0m8\n",
      "\u001b[1m\u001b[30mrunning_secs: \u001b[30m\u001b[0m47\n",
      "\u001b[1m\u001b[30mop_state: \u001b[30m\u001b[0m5\n",
      "\u001b[1m\u001b[30mq: \u001b[30m\u001b[0m[-24.40976, -17.377375, -110.49155, 153.96028, -44.078182, -173.95752]\n",
      "\u001b[1m\u001b[30mqdot: \u001b[30m\u001b[0m[-0.0, 0.5447766, -0.1815922, -0.0, -0.0, -0.0]\n",
      "\u001b[1m\u001b[30mp: \u001b[30m\u001b[0m[499.27542, 0.29734835, 451.02057, 102.02659, 104.56968, 95.04724]\n",
      "\u001b[1m\u001b[30mpdot: \u001b[30m\u001b[0m[-2.1111753, 0.9581052, 3.307081, 0.07955086, -0.3365614, -0.11090981]\n",
      "\u001b[1m\u001b[30mref_frame: \u001b[30m\u001b[0m[0.0, 0.0, 0.0, 0.0, 0.0, 0.0]\n",
      "\u001b[1m\u001b[30mtool_frame: \u001b[30m\u001b[0m[0.0, 0.0, 0.0, 0.0, 0.0, 0.0]\n",
      "\u001b[1m\u001b[30msim_mode: \u001b[30m\u001b[0mFalse\n"
     ]
    }
   ],
   "source": [
    "control_data = indy.get_control_data()\n",
    "for key, value in zip(control_data.keys(), control_data.values()):\n",
    "    PRINT_BLACK(key, value)"
   ]
  },
  {
   "cell_type": "code",
   "execution_count": 34,
   "id": "d8dc073b",
   "metadata": {},
   "outputs": [
    {
     "data": {
      "text/plain": [
       "{'msg': 'TeleOp Stop Requested', 'code': '0'}"
      ]
     },
     "execution_count": 34,
     "metadata": {},
     "output_type": "execute_result"
    }
   ],
   "source": [
    "#move_response = indy.movej(jtarget = [-27, -20, -74, 98, -27, -113])\n",
    "\n",
    "indy.stop_teleop()\n",
    "\n",
    "horizontal_orientation_xyz = np.array([90, 104.5, 90])\n",
    "home_pos = np.array([500, 0, 500, 95, 104.5, 90]) # x, y, z (mm), x, y, z (deg)\n",
    "init_jpos = indy.get_control_data()['q']\n",
    "indy.movel(ttarget = home_pos)\n",
    "\n",
    "while (indy.get_motion_data()['is_in_motion'] == True):\n",
    "    time.sleep(0.01)\n",
    "time.sleep(1)\n",
    "\n",
    "\n",
    "while (indy.get_control_data()['op_state'] != 17):\n",
    "    time.sleep(1)\n",
    "    indy.start_teleop(method=TaskTeleopType.ABSOLUTE)\n",
    "time.sleep(1)\n",
    "\n",
    "repeat = 5\n",
    "i=0\n",
    "while i <repeat :\n",
    "    #bounce(indy, current_robot_pos=home_pos, target_ball_pos = home_pos + np.array([0, +200, 0, 0, 0, 0]), bounce_force = 20)\n",
    "    #indy.movetelel_abs(home_pos + np.array([0, +200, 0, 0, 0, 0]), vel_ratio=0.5, acc_ratio=1.0)\n",
    "    #time.sleep(3)\n",
    "    #bounce(indy, current_robot_pos = home_pos, target_ball_pos = home_pos + np.array([0, -200, 0, 0, 0, 0]))\n",
    "    #indy.movetelel_abs(home_pos + np.array([0, -200, 0, 0, 0, 0]), vel_ratio=0.5, acc_ratio=1.0)\n",
    "\n",
    "\n",
    "    indy.movetelel_abs(home_pos, vel_ratio= 0.9, acc_ratio=0.8)\n",
    "    time.sleep(1)\n",
    "    indy.movetelel_abs(home_pos + np.array([0, 0, -200, 0, 0, 0]), vel_ratio=0.9, acc_ratio=0.8)\n",
    "    time.sleep(1)\n",
    "    \n",
    "    i = i + 1\n",
    "\n",
    "time.sleep(3)\n",
    "indy.stop_teleop()\n"
   ]
  },
  {
   "cell_type": "code",
   "execution_count": 27,
   "id": "14c22c4e",
   "metadata": {},
   "outputs": [
    {
     "data": {
      "text/plain": [
       "{'msg': 'TeleOp Stop Requested', 'code': '0'}"
      ]
     },
     "execution_count": 27,
     "metadata": {},
     "output_type": "execute_result"
    }
   ],
   "source": [
    "indy.stop_teleop()"
   ]
  },
  {
   "cell_type": "code",
   "execution_count": 31,
   "id": "855ec0fb",
   "metadata": {},
   "outputs": [
    {
     "data": {
      "text/plain": [
       "{'msg': 'Success', 'code': '0'}"
      ]
     },
     "execution_count": 31,
     "metadata": {},
     "output_type": "execute_result"
    }
   ],
   "source": [
    "indy.recover()"
   ]
  },
  {
   "cell_type": "code",
   "execution_count": null,
   "id": "9ecef642",
   "metadata": {},
   "outputs": [],
   "source": [
    "indy.set_direct_teaching(enable=True)"
   ]
  },
  {
   "cell_type": "code",
   "execution_count": null,
   "id": "f3101fef",
   "metadata": {},
   "outputs": [],
   "source": [
    "indy.set_direct_teaching(enable=False)"
   ]
  }
 ],
 "metadata": {
  "kernelspec": {
   "display_name": "Python 3",
   "language": "python",
   "name": "python3"
  },
  "language_info": {
   "codemirror_mode": {
    "name": "ipython",
    "version": 3
   },
   "file_extension": ".py",
   "mimetype": "text/x-python",
   "name": "python",
   "nbconvert_exporter": "python",
   "pygments_lexer": "ipython3",
   "version": "3.10.17"
  }
 },
 "nbformat": 4,
 "nbformat_minor": 5
}
