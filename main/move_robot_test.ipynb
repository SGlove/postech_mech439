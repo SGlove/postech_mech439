{
 "cells": [
  {
   "cell_type": "code",
   "execution_count": 1,
   "id": "8dcc5a6d",
   "metadata": {},
   "outputs": [],
   "source": [
    "import os\n",
    "import sys\n",
    "\n",
    "import numpy as np\n",
    "import matplotlib.pyplot as plt\n",
    "import time\n",
    "\n",
    "sys.path.append(\"../\")\n",
    "\n",
    "from src.utils import *\n",
    "from src.core.pybullet_core import PybulletCore\n",
    "\n",
    "from neuromeka import IndyDCP3\n",
    "from neuromeka import JointTeleopType, TaskTeleopType\n",
    "\n",
    "import cv2\n",
    "import imutils\n",
    "\n",
    "import camera_detector\n",
    "import threading\n",
    "\n",
    "indy = IndyDCP3(robot_ip='192.168.0.22', index=0)\n",
    "\n"
   ]
  },
  {
   "cell_type": "code",
   "execution_count": 111,
   "id": "bb15d2ba",
   "metadata": {},
   "outputs": [
    {
     "data": {
      "text/plain": [
       "{'msg': 'MoveL Success', 'code': '0'}"
      ]
     },
     "execution_count": 111,
     "metadata": {},
     "output_type": "execute_result"
    }
   ],
   "source": [
    "w = 420\n",
    "h = 300\n",
    "home_pos = np.array([595, 25, 420, -93.59, 76.57, -98.37])\n",
    "#home_pos = np.array([595, 25, 420, -93.41, 76.27, -98.19] + np.array([w/2, -w/2, -h/2, 0, 0, 0])) # x, y, z (mm), x, y, z (deg)\n",
    "indy.movel(ttarget = home_pos)"
   ]
  },
  {
   "cell_type": "code",
   "execution_count": 108,
   "id": "14c22c4e",
   "metadata": {},
   "outputs": [
    {
     "data": {
      "text/plain": [
       "{'msg': 'TeleOp Stop Requested', 'code': '0'}"
      ]
     },
     "execution_count": 108,
     "metadata": {},
     "output_type": "execute_result"
    }
   ],
   "source": [
    "indy.stop_teleop()"
   ]
  },
  {
   "cell_type": "code",
   "execution_count": 109,
   "id": "7929f308",
   "metadata": {},
   "outputs": [
    {
     "data": {
      "text/plain": [
       "{'violation_code': '64',\n",
       " 'j_index': 3,\n",
       " 'i_args': [0],\n",
       " 'f_args': [80858.695],\n",
       " 'violation_str': 'TCP Singular Closed'}"
      ]
     },
     "execution_count": 109,
     "metadata": {},
     "output_type": "execute_result"
    }
   ],
   "source": [
    "indy.get_violation_data()"
   ]
  },
  {
   "cell_type": "code",
   "execution_count": 120,
   "id": "855ec0fb",
   "metadata": {},
   "outputs": [
    {
     "data": {
      "text/plain": [
       "{'msg': 'Success', 'code': '0'}"
      ]
     },
     "execution_count": 120,
     "metadata": {},
     "output_type": "execute_result"
    }
   ],
   "source": [
    "indy.recover()"
   ]
  },
  {
   "cell_type": "code",
   "execution_count": 103,
   "id": "9ecef642",
   "metadata": {},
   "outputs": [
    {
     "data": {
      "text/plain": [
       "{'msg': 'SetDirectTeaching Success', 'code': '0'}"
      ]
     },
     "execution_count": 103,
     "metadata": {},
     "output_type": "execute_result"
    }
   ],
   "source": [
    "indy.set_direct_teaching(enable=True)"
   ]
  },
  {
   "cell_type": "code",
   "execution_count": 104,
   "id": "f3101fef",
   "metadata": {},
   "outputs": [
    {
     "data": {
      "text/plain": [
       "{'msg': 'SetDirectTeaching Success', 'code': '0'}"
      ]
     },
     "execution_count": 104,
     "metadata": {},
     "output_type": "execute_result"
    }
   ],
   "source": [
    "indy.set_direct_teaching(enable=False)"
   ]
  }
 ],
 "metadata": {
  "kernelspec": {
   "display_name": "Python 3",
   "language": "python",
   "name": "python3"
  },
  "language_info": {
   "codemirror_mode": {
    "name": "ipython",
    "version": 3
   },
   "file_extension": ".py",
   "mimetype": "text/x-python",
   "name": "python",
   "nbconvert_exporter": "python",
   "pygments_lexer": "ipython3",
   "version": "3.10.17"
  }
 },
 "nbformat": 4,
 "nbformat_minor": 5
}
