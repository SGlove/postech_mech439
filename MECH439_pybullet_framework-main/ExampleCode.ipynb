{
 "cells": [
  {
   "cell_type": "code",
   "execution_count": null,
   "id": "7bebbf60",
   "metadata": {
    "pycharm": {
     "name": "#%%\n"
    }
   },
   "outputs": [],
   "source": [
    "import numpy as np\n",
    "import matplotlib.pyplot as plt\n",
    "from src.core.pybullet_core import PybulletCore\n",
    "from src.utils import *"
   ]
  },
  {
   "cell_type": "markdown",
   "id": "9af6e99c",
   "metadata": {
    "pycharm": {
     "name": "#%% md\n"
    }
   },
   "source": [
    "# Open Pybullet GUI"
   ]
  },
  {
   "cell_type": "code",
   "execution_count": null,
   "id": "d610617b",
   "metadata": {
    "pycharm": {
     "name": "#%%\n"
    }
   },
   "outputs": [],
   "source": [
    "pb = PybulletCore()\n",
    "pb.connect(robot_name = \"indy7_v2\", joint_limit=True, constraint_visualization = False)"
   ]
  },
  {
   "cell_type": "markdown",
   "id": "655bd39a",
   "metadata": {
    "pycharm": {
     "name": "#%% md\n"
    }
   },
   "source": [
    "# Move robot"
   ]
  },
  {
   "cell_type": "code",
   "execution_count": null,
   "id": "82a917c0-fa43-41db-9f97-188f332ff3cd",
   "metadata": {},
   "outputs": [],
   "source": [
    "pb.MoveRobot([0, 30, -120, 0, -90, 0], degree=True, verbose=True)"
   ]
  },
  {
   "cell_type": "markdown",
   "id": "6355fb9d",
   "metadata": {},
   "source": [
    "# Get PyBullet robot's properties (Current states)"
   ]
  },
  {
   "cell_type": "code",
   "execution_count": null,
   "id": "9d120f3b",
   "metadata": {},
   "outputs": [],
   "source": [
    "q = pb.my_robot.q\n",
    "PRINT_BLACK(\"Joint position (rad)\", q.T)\n",
    "\n",
    "qdot = pb.my_robot.qdot\n",
    "PRINT_BLACK(\"Joint velocity (rad/s)\", dq.T)\n",
    "\n",
    "p = pb.my_robot.p\n",
    "PRINT_BLACK(\"End-effector's pose in xyz-xi vector\", p.T)\n",
    "\n",
    "T_end = pb.my_robot.T_end\n",
    "PRINT_BLACK(\"End-effector's pose in SE3\\n\", T_end)\n",
    "\n",
    "Jr = pb.my_robot.Jr\n",
    "PRINT_BLACK(\"Robot's jacobian\\n\", Jr)\n",
    "\n",
    "g = pb.my_robot.g\n",
    "PRINT_BLACK(\"Gravity compensate term\", g.T)"
   ]
  },
  {
   "cell_type": "markdown",
   "id": "c2b96255",
   "metadata": {},
   "source": [
    "# Rotation & Transformation Matrix Utils"
   ]
  },
  {
   "cell_type": "code",
   "execution_count": null,
   "id": "bf631eaa",
   "metadata": {},
   "outputs": [],
   "source": [
    "# Euler angle -> Rotation matrix\n",
    "R = eul2Rot([90, 0, 0], seq='XYZ', degree=True)\n",
    "print(R)\n",
    "\n",
    "# Rotation matrix -> Euler angle\n",
    "eul = Rot2eul(R, seq='XYZ', degree=True)\n",
    "print(eul)"
   ]
  },
  {
   "cell_type": "code",
   "execution_count": null,
   "id": "b61c89c6",
   "metadata": {},
   "outputs": [],
   "source": [
    "# xyz position + Euler angle -> Transformation matrix\n",
    "T = xyzeul2SE3([0.2, 0.3, 0.4], [90, 0, 0], seq='XYZ', degree=True)\n",
    "print(T)\n",
    "\n",
    "# Transformation matrix -> xyz position + Euler angle\n",
    "xyz = T[0:3, 3]\n",
    "eul = Rot2eul(T[0:3, 0:3], seq='XYZ', degree=True)\n",
    "print(xyz, eul)"
   ]
  },
  {
   "cell_type": "markdown",
   "id": "d3246e44",
   "metadata": {},
   "source": [
    "# Matrix Exponential/Logarithm (Out of this course!)"
   ]
  },
  {
   "cell_type": "code",
   "execution_count": null,
   "id": "be3f61af",
   "metadata": {},
   "outputs": [],
   "source": [
    "R = eul2Rot([90, 0, 0], seq='XYZ', degree=True)\n",
    "print(R)\n",
    "\n",
    "# Rotation matrix -> 3-by-1 vector (log)\n",
    "xi = Rot2Vec(R)\n",
    "print(xi)\n",
    "\n",
    "# 3-by-1 vector -> rotation matrix (exp)\n",
    "R = Vec2Rot(xi)\n",
    "print(R)"
   ]
  },
  {
   "cell_type": "code",
   "execution_count": null,
   "id": "900abc13",
   "metadata": {},
   "outputs": [],
   "source": [
    "T = xyzeul2SE3([0.2, 0.3, 0.4], [90, 0, 0], seq='XYZ', degree=True)\n",
    "print(T)\n",
    "\n",
    "# Transformation matrix -> 6-by-1 vector (log)\n",
    "lamb = SE32Vec(T)\n",
    "print(lamb)\n",
    "\n",
    "# 6-by-1 vector -> transformation matrix (exp)\n",
    "T = Vec2SE3(lamb)\n",
    "print(T)\n",
    "\n",
    "# Transformation matrix -> xyz-xi vector (decoupled: position (xyz) and orientation(xi))\n",
    "xyz_xi = SE32PoseVec(T)\n",
    "print(xyz_xi)\n",
    "\n",
    "# xyz-xi vector -> transformation matrix\n",
    "T = PoseVec2SE3(xyz_xi)\n",
    "print(T)"
   ]
  }
 ],
 "metadata": {
  "kernelspec": {
   "display_name": "Python 3 (ipykernel)",
   "language": "python",
   "name": "python3"
  },
  "language_info": {
   "codemirror_mode": {
    "name": "ipython",
    "version": 3
   },
   "file_extension": ".py",
   "mimetype": "text/x-python",
   "name": "python",
   "nbconvert_exporter": "python",
   "pygments_lexer": "ipython3",
   "version": "3.8.19"
  },
  "toc": {
   "base_numbering": 1,
   "nav_menu": {},
   "number_sections": true,
   "sideBar": false,
   "skip_h1_title": false,
   "title_cell": "Table of Contents",
   "title_sidebar": "Contents",
   "toc_cell": true,
   "toc_position": {},
   "toc_section_display": true,
   "toc_window_display": true
  }
 },
 "nbformat": 4,
 "nbformat_minor": 5
}
